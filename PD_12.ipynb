{
 "cells": [
  {
   "cell_type": "code",
   "execution_count": 128,
   "metadata": {},
   "outputs": [
    {
     "name": "stdout",
     "output_type": "stream",
     "text": [
      "['heart.csv', 'PD_12.ipynb', 'PD_12.md']\n"
     ]
    }
   ],
   "source": [
    "import numpy as np\n",
    "import pandas as pd\n",
    "import matplotlib.pyplot as plt\n",
    "import seaborn as sns\n",
    "from sklearn.metrics import accuracy_score\n",
    "from sklearn.neighbors import KNeighborsClassifier\n",
    "from sklearn.preprocessing import StandardScaler\n",
    "from keras.models import Sequential\n",
    "from keras.layers import Dense\n",
    "\n",
    "%matplotlib inline\n",
    "\n",
    "import os\n",
    "print(os.listdir())\n",
    "\n",
    "import warnings\n",
    "warnings.filterwarnings('ignore')\n"
   ]
  },
  {
   "cell_type": "code",
   "execution_count": 129,
   "metadata": {},
   "outputs": [],
   "source": [
    "dataset = pd.read_csv(\"heart.csv\")"
   ]
  },
  {
   "cell_type": "code",
   "execution_count": 130,
   "metadata": {},
   "outputs": [
    {
     "data": {
      "text/plain": [
       "pandas.core.frame.DataFrame"
      ]
     },
     "execution_count": 130,
     "metadata": {},
     "output_type": "execute_result"
    }
   ],
   "source": [
    "type(dataset)"
   ]
  },
  {
   "cell_type": "code",
   "execution_count": 131,
   "metadata": {},
   "outputs": [
    {
     "data": {
      "text/plain": [
       "(294, 14)"
      ]
     },
     "execution_count": 131,
     "metadata": {},
     "output_type": "execute_result"
    }
   ],
   "source": [
    "dataset.shape"
   ]
  },
  {
   "cell_type": "code",
   "execution_count": 132,
   "metadata": {},
   "outputs": [],
   "source": [
    "# cleans the names of the columns from any whitespaces\n",
    "for col in dataset.columns:\n",
    "    new_col_name = col.strip()\n",
    "    dataset.rename(columns={col: new_col_name}, inplace=True)"
   ]
  },
  {
   "cell_type": "code",
   "execution_count": 133,
   "metadata": {},
   "outputs": [
    {
     "name": "stdout",
     "output_type": "stream",
     "text": [
      "?    190\n",
      "2     91\n",
      "1     12\n",
      "3      1\n",
      "Name: slope, dtype: int64\n",
      "?    291\n",
      "0      3\n",
      "Name: ca, dtype: int64\n",
      "?    266\n",
      "7     11\n",
      "6     10\n",
      "3      7\n",
      "Name: thal, dtype: int64\n"
     ]
    }
   ],
   "source": [
    "for col in ['slope', 'ca', 'thal']:\n",
    "    print(dataset[col].value_counts())"
   ]
  },
  {
   "cell_type": "code",
   "execution_count": 134,
   "metadata": {},
   "outputs": [],
   "source": [
    "dataset = dataset.drop(labels=['slope', 'ca', 'thal'], axis='columns')\n",
    "dataset.head(5)\n",
    "df_filled_avg = dataset"
   ]
  },
  {
   "cell_type": "code",
   "execution_count": 135,
   "metadata": {},
   "outputs": [
    {
     "name": "stdout",
     "output_type": "stream",
     "text": [
      "(261, 11)\n",
      "age         float64\n",
      "sex         float64\n",
      "cp          float64\n",
      "trestbps    float64\n",
      "chol        float64\n",
      "fbs         float64\n",
      "restecg     float64\n",
      "thalach     float64\n",
      "exang       float64\n",
      "oldpeak     float64\n",
      "num         float64\n",
      "dtype: object\n",
      "(284, 11)\n",
      "age         float64\n",
      "sex         float64\n",
      "cp          float64\n",
      "trestbps    float64\n",
      "chol        float64\n",
      "fbs         float64\n",
      "restecg     float64\n",
      "thalach     float64\n",
      "exang       float64\n",
      "oldpeak     float64\n",
      "num         float64\n",
      "dtype: object\n"
     ]
    }
   ],
   "source": [
    "for col in dataset.columns:\n",
    "\n",
    "    if '?' in dataset[col].unique():\n",
    "        # print(col, dataset[col].value_counts()['?'])\n",
    "        dataset = dataset[dataset[col] != '?']\n",
    "\n",
    "        if col == 'chol':\n",
    "            df_filled_avg.loc[df_filled_avg['chol'] == '?'] = -1\n",
    "        else:\n",
    "            df_filled_avg = df_filled_avg[df_filled_avg[col] != '?']\n",
    "\n",
    "    dataset[col] = dataset[col].astype('float')\n",
    "    df_filled_avg[col] = df_filled_avg[col].astype('float')\n",
    "    \n",
    "\n",
    "df_filled_avg.loc[df_filled_avg['chol'] == -1] = df_filled_avg['chol'].mean()\n",
    "\n",
    "print(dataset.shape)\n",
    "print(dataset.dtypes)\n",
    "print(df_filled_avg.shape)\n",
    "print(df_filled_avg.dtypes)\n",
    "\n"
   ]
  },
  {
   "cell_type": "code",
   "execution_count": 136,
   "metadata": {},
   "outputs": [
    {
     "name": "stdout",
     "output_type": "stream",
     "text": [
      "<class 'pandas.core.frame.DataFrame'>\n",
      "Int64Index: 261 entries, 0 to 293\n",
      "Data columns (total 11 columns):\n",
      " #   Column    Non-Null Count  Dtype  \n",
      "---  ------    --------------  -----  \n",
      " 0   age       261 non-null    float64\n",
      " 1   sex       261 non-null    float64\n",
      " 2   cp        261 non-null    float64\n",
      " 3   trestbps  261 non-null    float64\n",
      " 4   chol      261 non-null    float64\n",
      " 5   fbs       261 non-null    float64\n",
      " 6   restecg   261 non-null    float64\n",
      " 7   thalach   261 non-null    float64\n",
      " 8   exang     261 non-null    float64\n",
      " 9   oldpeak   261 non-null    float64\n",
      " 10  num       261 non-null    float64\n",
      "dtypes: float64(11)\n",
      "memory usage: 24.5 KB\n"
     ]
    }
   ],
   "source": [
    "dataset.info()"
   ]
  },
  {
   "cell_type": "code",
   "execution_count": 137,
   "metadata": {},
   "outputs": [
    {
     "name": "stdout",
     "output_type": "stream",
     "text": [
      "age:\t\t\tage\n",
      "sex:\t\t\t1: male, 0: female\n",
      "cp:\t\t\tchest pain type, 1: typical angina, 2: atypical angina, 3: non-anginal pain, 4: asymptomatic\n",
      "trestbps:\t\t\tresting blood pressure\n",
      "chol:\t\t\t serum cholestoral in mg/dl\n",
      "fbs:\t\t\tfasting blood sugar > 120 mg/dl\n",
      "restecg:\t\t\tresting electrocardiographic results (values 0,1,2)\n",
      "thalach:\t\t\t maximum heart rate achieved\n",
      "exang:\t\t\texercise induced angina\n",
      "oldpeak:\t\t\toldpeak = ST depression induced by exercise relative to rest\n"
     ]
    }
   ],
   "source": [
    "info = [\"age\",\"1: male, 0: female\",\"chest pain type, 1: typical angina, 2: atypical angina, 3: non-anginal pain, 4: asymptomatic\",\"resting blood pressure\",\" serum cholestoral in mg/dl\",\"fasting blood sugar > 120 mg/dl\",\"resting electrocardiographic results (values 0,1,2)\",\" maximum heart rate achieved\",\"exercise induced angina\",\"oldpeak = ST depression induced by exercise relative to rest\"]\n",
    "\n",
    "for i in range(len(info)):\n",
    "    print(dataset.columns[i]+\":\\t\\t\\t\"+info[i])"
   ]
  },
  {
   "cell_type": "code",
   "execution_count": 138,
   "metadata": {},
   "outputs": [
    {
     "data": {
      "text/html": [
       "<div>\n",
       "<style scoped>\n",
       "    .dataframe tbody tr th:only-of-type {\n",
       "        vertical-align: middle;\n",
       "    }\n",
       "\n",
       "    .dataframe tbody tr th {\n",
       "        vertical-align: top;\n",
       "    }\n",
       "\n",
       "    .dataframe thead th {\n",
       "        text-align: right;\n",
       "    }\n",
       "</style>\n",
       "<table border=\"1\" class=\"dataframe\">\n",
       "  <thead>\n",
       "    <tr style=\"text-align: right;\">\n",
       "      <th></th>\n",
       "      <th>age</th>\n",
       "      <th>sex</th>\n",
       "      <th>cp</th>\n",
       "      <th>trestbps</th>\n",
       "      <th>chol</th>\n",
       "      <th>fbs</th>\n",
       "      <th>restecg</th>\n",
       "      <th>thalach</th>\n",
       "      <th>exang</th>\n",
       "      <th>oldpeak</th>\n",
       "      <th>num</th>\n",
       "    </tr>\n",
       "  </thead>\n",
       "  <tbody>\n",
       "    <tr>\n",
       "      <th>0</th>\n",
       "      <td>28.0</td>\n",
       "      <td>1.0</td>\n",
       "      <td>2.0</td>\n",
       "      <td>130.0</td>\n",
       "      <td>132.0</td>\n",
       "      <td>0.0</td>\n",
       "      <td>2.0</td>\n",
       "      <td>185.0</td>\n",
       "      <td>0.0</td>\n",
       "      <td>0.0</td>\n",
       "      <td>0.0</td>\n",
       "    </tr>\n",
       "    <tr>\n",
       "      <th>1</th>\n",
       "      <td>29.0</td>\n",
       "      <td>1.0</td>\n",
       "      <td>2.0</td>\n",
       "      <td>120.0</td>\n",
       "      <td>243.0</td>\n",
       "      <td>0.0</td>\n",
       "      <td>0.0</td>\n",
       "      <td>160.0</td>\n",
       "      <td>0.0</td>\n",
       "      <td>0.0</td>\n",
       "      <td>0.0</td>\n",
       "    </tr>\n",
       "    <tr>\n",
       "      <th>3</th>\n",
       "      <td>30.0</td>\n",
       "      <td>0.0</td>\n",
       "      <td>1.0</td>\n",
       "      <td>170.0</td>\n",
       "      <td>237.0</td>\n",
       "      <td>0.0</td>\n",
       "      <td>1.0</td>\n",
       "      <td>170.0</td>\n",
       "      <td>0.0</td>\n",
       "      <td>0.0</td>\n",
       "      <td>0.0</td>\n",
       "    </tr>\n",
       "    <tr>\n",
       "      <th>4</th>\n",
       "      <td>31.0</td>\n",
       "      <td>0.0</td>\n",
       "      <td>2.0</td>\n",
       "      <td>100.0</td>\n",
       "      <td>219.0</td>\n",
       "      <td>0.0</td>\n",
       "      <td>1.0</td>\n",
       "      <td>150.0</td>\n",
       "      <td>0.0</td>\n",
       "      <td>0.0</td>\n",
       "      <td>0.0</td>\n",
       "    </tr>\n",
       "    <tr>\n",
       "      <th>5</th>\n",
       "      <td>32.0</td>\n",
       "      <td>0.0</td>\n",
       "      <td>2.0</td>\n",
       "      <td>105.0</td>\n",
       "      <td>198.0</td>\n",
       "      <td>0.0</td>\n",
       "      <td>0.0</td>\n",
       "      <td>165.0</td>\n",
       "      <td>0.0</td>\n",
       "      <td>0.0</td>\n",
       "      <td>0.0</td>\n",
       "    </tr>\n",
       "  </tbody>\n",
       "</table>\n",
       "</div>"
      ],
      "text/plain": [
       "    age  sex   cp  trestbps   chol  fbs  restecg  thalach  exang  oldpeak  num\n",
       "0  28.0  1.0  2.0     130.0  132.0  0.0      2.0    185.0    0.0      0.0  0.0\n",
       "1  29.0  1.0  2.0     120.0  243.0  0.0      0.0    160.0    0.0      0.0  0.0\n",
       "3  30.0  0.0  1.0     170.0  237.0  0.0      1.0    170.0    0.0      0.0  0.0\n",
       "4  31.0  0.0  2.0     100.0  219.0  0.0      1.0    150.0    0.0      0.0  0.0\n",
       "5  32.0  0.0  2.0     105.0  198.0  0.0      0.0    165.0    0.0      0.0  0.0"
      ]
     },
     "execution_count": 138,
     "metadata": {},
     "output_type": "execute_result"
    }
   ],
   "source": [
    "dataset.head()"
   ]
  },
  {
   "cell_type": "code",
   "execution_count": 139,
   "metadata": {},
   "outputs": [
    {
     "data": {
      "text/plain": [
       "Text(0.5, 1.0, 'Male (1) vs Female (0) affected by Heart Diseases')"
      ]
     },
     "execution_count": 139,
     "metadata": {},
     "output_type": "execute_result"
    },
    {
     "data": {
      "image/png": "[encoded data removed]",
      "text/plain": [
       "<Figure size 432x288 with 1 Axes>"
      ]
     },
     "metadata": {
      "needs_background": "light"
     },
     "output_type": "display_data"
    }
   ],
   "source": [
    "import seaborn as sns\n",
    "import matplotlib.pyplot as plt\n",
    "sns.countplot(x = 'num',data = dataset,hue = 'sex')\n",
    "plt.title(\"Male (1) vs Female (0) affected by Heart Diseases\")"
   ]
  },
  {
   "cell_type": "code",
   "execution_count": 140,
   "metadata": {},
   "outputs": [
    {
     "data": {
      "text/plain": [
       "<matplotlib.legend.Legend at 0x2163d441430>"
      ]
     },
     "execution_count": 140,
     "metadata": {},
     "output_type": "execute_result"
    },
    {
     "data": {
      "image/png": "[encoded data removed]",
      "text/plain": [
       "<Figure size 1440x864 with 1 Axes>"
      ]
     },
     "metadata": {
      "needs_background": "light"
     },
     "output_type": "display_data"
    }
   ],
   "source": [
    "plt.figure(figsize = (20,12))\n",
    "sns.countplot(x = 'age',hue = 'num',data = dataset)\n",
    "plt.title(\"People affected by heart deseases vs age\", fontsize=20)\n",
    "plt.legend([\"Healthy\",\"Ill\"], fontsize=20)"
   ]
  },
  {
   "cell_type": "code",
   "execution_count": 141,
   "metadata": {},
   "outputs": [
    {
     "data": {
      "text/plain": [
       "Text(0.5, 1.0, 'Heart rate vs Age')"
      ]
     },
     "execution_count": 141,
     "metadata": {},
     "output_type": "execute_result"
    },
    {
     "data": {
      "image/png": "[encoded data removed]",
      "text/plain": [
       "<Figure size 720x504 with 1 Axes>"
      ]
     },
     "metadata": {
      "needs_background": "light"
     },
     "output_type": "display_data"
    }
   ],
   "source": [
    "plt.figure(figsize = (10,7))\n",
    "plt.scatter(x = 'age',y = 'thalach', c='num',data = dataset)\n",
    "plt.xlabel('Age')\n",
    "plt.ylabel('Max heart rate')\n",
    "plt.title('Heart rate vs Age')"
   ]
  },
  {
   "cell_type": "code",
   "execution_count": 142,
   "metadata": {},
   "outputs": [
    {
     "name": "stdout",
     "output_type": "stream",
     "text": [
      "num         1.000000\n",
      "oldpeak     0.565669\n",
      "exang       0.557860\n",
      "cp          0.503254\n",
      "thalach     0.345074\n",
      "sex         0.249531\n",
      "chol        0.217929\n",
      "fbs         0.178642\n",
      "age         0.160249\n",
      "trestbps    0.148295\n",
      "restecg     0.019413\n",
      "Name: num, dtype: float64\n"
     ]
    }
   ],
   "source": [
    "print(dataset.corr()['num'].abs().sort_values(ascending=False))"
   ]
  },
  {
   "cell_type": "code",
   "execution_count": 143,
   "metadata": {},
   "outputs": [
    {
     "name": "stdout",
     "output_type": "stream",
     "text": [
      "0.0    163\n",
      "1.0     98\n",
      "Name: num, dtype: int64\n"
     ]
    },
    {
     "data": {
      "image/png": "[encoded data removed]",
      "text/plain": [
       "<Figure size 432x288 with 1 Axes>"
      ]
     },
     "metadata": {
      "needs_background": "light"
     },
     "output_type": "display_data"
    }
   ],
   "source": [
    "y = dataset['num']\n",
    "\n",
    "sns.countplot(y)\n",
    "\n",
    "target_temp = dataset['num'].value_counts()\n",
    "\n",
    "print(target_temp)"
   ]
  },
  {
   "cell_type": "code",
   "execution_count": 144,
   "metadata": {},
   "outputs": [
    {
     "name": "stdout",
     "output_type": "stream",
     "text": [
      "Percentage of patience without heart problems: 62.45\n",
      "Percentage of patience with heart problems: 37.55\n"
     ]
    }
   ],
   "source": [
    "print(\"Percentage of patience without heart problems: \"+str(round(target_temp[0]*100/dataset.shape[0],2)))\n",
    "print(\"Percentage of patience with heart problems: \"+str(round(target_temp[1]*100/dataset.shape[0],2)))"
   ]
  },
  {
   "cell_type": "code",
   "execution_count": 145,
   "metadata": {},
   "outputs": [],
   "source": [
    "from sklearn.model_selection import train_test_split\n",
    "\n",
    "X = dataset.drop(['num'], axis = 1).values\n",
    "Y = dataset['num']\n",
    "\n",
    "X = StandardScaler().fit_transform(X)\n",
    "X_train, X_test, Y_train, Y_test = train_test_split(X, Y, test_size = 0.30, random_state = 101)\n",
    "X_train = StandardScaler().fit_transform(X_train)\n",
    "X_test = StandardScaler().fit_transform(X_test)"
   ]
  },
  {
   "cell_type": "code",
   "execution_count": 146,
   "metadata": {},
   "outputs": [
    {
     "data": {
      "text/plain": [
       "(182, 10)"
      ]
     },
     "execution_count": 146,
     "metadata": {},
     "output_type": "execute_result"
    }
   ],
   "source": [
    "X_train.shape"
   ]
  },
  {
   "cell_type": "code",
   "execution_count": 147,
   "metadata": {},
   "outputs": [
    {
     "data": {
      "text/plain": [
       "(79, 10)"
      ]
     },
     "execution_count": 147,
     "metadata": {},
     "output_type": "execute_result"
    }
   ],
   "source": [
    "X_test.shape"
   ]
  },
  {
   "cell_type": "code",
   "execution_count": 148,
   "metadata": {},
   "outputs": [
    {
     "data": {
      "text/plain": [
       "(182,)"
      ]
     },
     "execution_count": 148,
     "metadata": {},
     "output_type": "execute_result"
    }
   ],
   "source": [
    "Y_train.shape"
   ]
  },
  {
   "cell_type": "code",
   "execution_count": 149,
   "metadata": {},
   "outputs": [
    {
     "data": {
      "text/plain": [
       "(79,)"
      ]
     },
     "execution_count": 149,
     "metadata": {},
     "output_type": "execute_result"
    }
   ],
   "source": [
    "Y_test.shape"
   ]
  },
  {
   "cell_type": "code",
   "execution_count": 150,
   "metadata": {},
   "outputs": [],
   "source": [
    "def learning_rate_cv_plot(data_dm,params,lr_array, n_boost_rounds):\n",
    "    plt.figure(figsize=(15, 10))\n",
    "    legend = []\n",
    "    colors = ('r','g','b','c','m','y')\n",
    "    for lr in lr_array:\n",
    "        params[\"learning_rate\"] = lr\n",
    "        cv_results = xgb.cv(dtrain=data_dm, params=params, nfold=3, num_boost_round=n_boost_rounds,\n",
    "                                    metrics=\"rmse\", as_pandas=True, seed=123)\n",
    "        plt.plot(cv_results['train-rmse-mean'], color=colors[lr_array.index(lr)])\n",
    "        plt.plot(cv_results['test-rmse-mean'], ls='dashed', color=colors[lr_array.index(lr)])\n",
    "   \n",
    "        legend.append(f'test  LR: {lr}')\n",
    "        legend.append(f'train LR: {lr}')\n",
    "    plt.legend(legend)\n",
    "    plt.xlabel(\"Liczba estymatorów\")\n",
    "    plt.ylabel(\"Bład estymacji\")"
   ]
  },
  {
   "cell_type": "code",
   "execution_count": 151,
   "metadata": {},
   "outputs": [
    {
     "name": "stdout",
     "output_type": "stream",
     "text": [
      "Accuracy:  73.42 %\n"
     ]
    },
    {
     "data": {
      "text/plain": [
       "<Figure size 1080x576 with 0 Axes>"
      ]
     },
     "metadata": {},
     "output_type": "display_data"
    },
    {
     "data": {
      "image/png": "[encoded data removed]",
      "text/plain": [
       "<Figure size 1080x720 with 1 Axes>"
      ]
     },
     "metadata": {
      "needs_background": "light"
     },
     "output_type": "display_data"
    }
   ],
   "source": [
    "from xgboost import XGBClassifier\n",
    "from xgboost import plot_tree\n",
    "import xgboost as xgb\n",
    "import matplotlib.pyplot as plt\n",
    "from xgboost.callback import TrainingCallback\n",
    "\n",
    "lr_array = [0.01, 0.015, 0.02, 0.03, 0.04]\n",
    "data_dm = xgb.DMatrix(data=X, label=Y.values)\n",
    "plt.figure(figsize=(15, 8))\n",
    "\n",
    "params = {\"objective\":\"reg:squarederror\", \"max_depth\":3, \"learning_rate\": 0.1}\n",
    "\n",
    "data_train_dm = xgb.DMatrix(data=X_train, label=Y_train.values)\n",
    "data_test_dm = xgb.DMatrix(data=X_test, label=Y_test.values)\n",
    "learning_rate_cv_plot(data_dm, params, lr_array, 200)\n",
    "\n",
    "final_params = {\"objective\":\"reg:squarederror\", \"max_depth\":3, \"learning_rate\": 0.04}\n",
    "\n",
    "model = xgb.train(\n",
    "    dtrain=data_train_dm,\n",
    "    params=final_params,\n",
    "    num_boost_round=75,\n",
    "    )\n",
    "\n",
    "predictions = model.predict(data_test_dm)\n",
    "pred_classes = []\n",
    "for p in predictions:\n",
    "    if p < 0.5:\n",
    "        pred_classes.append(0)\n",
    "    else:\n",
    "        pred_classes.append(1)\n",
    "\n",
    "score_xgb = round(accuracy_score(pred_classes,Y_test)*100,2)        \n",
    "\n",
    "print(\"Accuracy: \", round(accuracy_score(pred_classes,Y_test)*100,2), \"%\")\n",
    "# for lr in lr_array:\n",
    "#     params[\"learning_rate\"] = lr\n",
    "#     cv_results = xgb.cv(\n",
    "#         nfold=3,\n",
    "#         dtrain=data_dm, \n",
    "#         params=params, \n",
    "#         num_boost_round=50, \n",
    "#         metrics=\"rmse\", \n",
    "#         as_pandas=True, \n",
    "#         seed=123,\n",
    "#     )\n",
    "#     plt.plot(cv_results['train-rmse-mean'])\n",
    "#     plt.plot(cv_results['test-rmse-mean'])\n",
    "\n",
    "# plt.xlabel(\"Liczba estymatorów\")\n",
    "# plt.ylabel(\"Bład estymacji\")\n",
    "# plt.legend(lr_array)\n",
    "# plt.show()"
   ]
  },
  {
   "cell_type": "markdown",
   "metadata": {},
   "source": [
    "KNN"
   ]
  },
  {
   "cell_type": "code",
   "execution_count": 152,
   "metadata": {},
   "outputs": [],
   "source": [
    "knn = KNeighborsClassifier(n_neighbors=7)\n",
    "knn.fit(X_train,Y_train)\n",
    "Y_pred_knn=knn.predict(X_test)"
   ]
  },
  {
   "cell_type": "code",
   "execution_count": 153,
   "metadata": {},
   "outputs": [
    {
     "data": {
      "text/plain": [
       "(79,)"
      ]
     },
     "execution_count": 153,
     "metadata": {},
     "output_type": "execute_result"
    }
   ],
   "source": [
    "Y_pred_knn.shape"
   ]
  },
  {
   "cell_type": "code",
   "execution_count": 154,
   "metadata": {},
   "outputs": [
    {
     "name": "stdout",
     "output_type": "stream",
     "text": [
      "The accuracy score achieved using KNN is: 78.48 %\n"
     ]
    }
   ],
   "source": [
    "score_knn = round(accuracy_score(Y_pred_knn,Y_test)*100,2)\n",
    "\n",
    "print(\"The accuracy score achieved using KNN is: \"+str(score_knn)+\" %\")"
   ]
  },
  {
   "cell_type": "code",
   "execution_count": 155,
   "metadata": {},
   "outputs": [],
   "source": [
    "train_scores = []\n",
    "test_scores  = []\n",
    "\n",
    "# Create a list of a different values for n_neighbors\n",
    "neighbors = range(1,25)\n",
    "\n",
    "# Setup KNN instance\n",
    "knn = KNeighborsClassifier()\n",
    "\n",
    "# Loop through different n_neighbors\n",
    "for i in neighbors:\n",
    "    knn.set_params(n_neighbors=i)\n",
    "    \n",
    "    # Fit the algorithm\n",
    "    knn.fit(X_train,Y_train)\n",
    "    \n",
    "    # Update the training scores list\n",
    "    train_scores.append(knn.score(X_train,Y_train))\n",
    "    \n",
    "    # Update the test scores list\n",
    "    test_scores.append(knn.score(X_test,Y_test))"
   ]
  },
  {
   "cell_type": "code",
   "execution_count": 156,
   "metadata": {},
   "outputs": [
    {
     "data": {
      "text/plain": [
       "[1.0,\n",
       " 0.8901098901098901,\n",
       " 0.9120879120879121,\n",
       " 0.9010989010989011,\n",
       " 0.8846153846153846,\n",
       " 0.8516483516483516,\n",
       " 0.8626373626373627,\n",
       " 0.8516483516483516,\n",
       " 0.8406593406593407,\n",
       " 0.8131868131868132,\n",
       " 0.8351648351648352,\n",
       " 0.8241758241758241,\n",
       " 0.8186813186813187,\n",
       " 0.8296703296703297,\n",
       " 0.8296703296703297,\n",
       " 0.8186813186813187,\n",
       " 0.8296703296703297,\n",
       " 0.8186813186813187,\n",
       " 0.8076923076923077,\n",
       " 0.8076923076923077,\n",
       " 0.8131868131868132,\n",
       " 0.8131868131868132,\n",
       " 0.8241758241758241,\n",
       " 0.8186813186813187]"
      ]
     },
     "execution_count": 156,
     "metadata": {},
     "output_type": "execute_result"
    }
   ],
   "source": [
    "train_scores"
   ]
  },
  {
   "cell_type": "code",
   "execution_count": 157,
   "metadata": {},
   "outputs": [
    {
     "data": {
      "text/plain": [
       "[0.6835443037974683,\n",
       " 0.7721518987341772,\n",
       " 0.7088607594936709,\n",
       " 0.759493670886076,\n",
       " 0.7468354430379747,\n",
       " 0.759493670886076,\n",
       " 0.7848101265822784,\n",
       " 0.810126582278481,\n",
       " 0.7721518987341772,\n",
       " 0.7848101265822784,\n",
       " 0.7848101265822784,\n",
       " 0.8227848101265823,\n",
       " 0.7848101265822784,\n",
       " 0.8227848101265823,\n",
       " 0.7848101265822784,\n",
       " 0.810126582278481,\n",
       " 0.810126582278481,\n",
       " 0.8354430379746836,\n",
       " 0.810126582278481,\n",
       " 0.810126582278481,\n",
       " 0.810126582278481,\n",
       " 0.7974683544303798,\n",
       " 0.7974683544303798,\n",
       " 0.7974683544303798]"
      ]
     },
     "execution_count": 157,
     "metadata": {},
     "output_type": "execute_result"
    }
   ],
   "source": [
    "test_scores"
   ]
  },
  {
   "cell_type": "code",
   "execution_count": 158,
   "metadata": {},
   "outputs": [
    {
     "name": "stdout",
     "output_type": "stream",
     "text": [
      "Maximum KNN Score on the test data: 83.54%\n"
     ]
    },
    {
     "data": {
      "image/png": "[encoded data removed]",
      "text/plain": [
       "<Figure size 432x288 with 1 Axes>"
      ]
     },
     "metadata": {
      "needs_background": "light"
     },
     "output_type": "display_data"
    }
   ],
   "source": [
    "plt.plot(neighbors,train_scores,label='Train Score',color='orchid')\n",
    "plt.plot(neighbors,test_scores,label='Test Score',color='slateblue')\n",
    "plt.xlabel('Number of Neighbors')\n",
    "plt.ylabel('Model Score')\n",
    "plt.xticks(np.arange(1,25,1))\n",
    "plt.legend();\n",
    "print(f'Maximum KNN Score on the test data: {max(test_scores)*100:.2f}%')"
   ]
  },
  {
   "cell_type": "markdown",
   "metadata": {},
   "source": [
    "NEURAL NETWORK"
   ]
  },
  {
   "cell_type": "code",
   "execution_count": 159,
   "metadata": {},
   "outputs": [],
   "source": [
    "\n",
    "model = Sequential()\n",
    "model.add(Dense(11,activation='relu',input_dim=10))\n",
    "model.add(Dense(1,activation='sigmoid'))\n",
    "\n",
    "model.compile(loss='binary_crossentropy',optimizer='adam',metrics=['accuracy'])"
   ]
  },
  {
   "cell_type": "code",
   "execution_count": 160,
   "metadata": {},
   "outputs": [
    {
     "name": "stdout",
     "output_type": "stream",
     "text": [
      "Epoch 1/300\n",
      "6/6 [==============================] - 0s 1ms/step - loss: 0.8587 - accuracy: 0.4505\n",
      "Epoch 2/300\n",
      "6/6 [==============================] - 0s 1ms/step - loss: 0.8337 - accuracy: 0.4560\n",
      "Epoch 3/300\n",
      "6/6 [==============================] - 0s 1ms/step - loss: 0.8101 - accuracy: 0.4615\n",
      "Epoch 4/300\n",
      "6/6 [==============================] - 0s 1ms/step - loss: 0.7873 - accuracy: 0.5000\n",
      "Epoch 5/300\n",
      "6/6 [==============================] - 0s 1ms/step - loss: 0.7657 - accuracy: 0.5110\n",
      "Epoch 6/300\n",
      "6/6 [==============================] - 0s 1ms/step - loss: 0.7476 - accuracy: 0.5275\n",
      "Epoch 7/300\n",
      "6/6 [==============================] - 0s 2ms/step - loss: 0.7285 - accuracy: 0.5604\n",
      "Epoch 8/300\n",
      "6/6 [==============================] - 0s 1ms/step - loss: 0.7095 - accuracy: 0.5824\n",
      "Epoch 9/300\n",
      "6/6 [==============================] - 0s 2ms/step - loss: 0.6936 - accuracy: 0.5934\n",
      "Epoch 10/300\n",
      "6/6 [==============================] - 0s 2ms/step - loss: 0.6775 - accuracy: 0.6099\n",
      "Epoch 11/300\n",
      "6/6 [==============================] - 0s 1ms/step - loss: 0.6621 - accuracy: 0.6319\n",
      "Epoch 12/300\n",
      "6/6 [==============================] - 0s 1ms/step - loss: 0.6474 - accuracy: 0.6374\n",
      "Epoch 13/300\n",
      "6/6 [==============================] - 0s 1ms/step - loss: 0.6347 - accuracy: 0.6429\n",
      "Epoch 14/300\n",
      "6/6 [==============================] - 0s 1ms/step - loss: 0.6216 - accuracy: 0.6593\n",
      "Epoch 15/300\n",
      "6/6 [==============================] - 0s 1ms/step - loss: 0.6093 - accuracy: 0.6703\n",
      "Epoch 16/300\n",
      "6/6 [==============================] - 0s 1ms/step - loss: 0.5972 - accuracy: 0.6813\n",
      "Epoch 17/300\n",
      "6/6 [==============================] - 0s 1ms/step - loss: 0.5861 - accuracy: 0.6923\n",
      "Epoch 18/300\n",
      "6/6 [==============================] - 0s 1ms/step - loss: 0.5760 - accuracy: 0.7088\n",
      "Epoch 19/300\n",
      "6/6 [==============================] - 0s 2ms/step - loss: 0.5649 - accuracy: 0.7253\n",
      "Epoch 20/300\n",
      "6/6 [==============================] - 0s 1ms/step - loss: 0.5545 - accuracy: 0.7308\n",
      "Epoch 21/300\n",
      "6/6 [==============================] - 0s 1ms/step - loss: 0.5454 - accuracy: 0.7527\n",
      "Epoch 22/300\n",
      "6/6 [==============================] - 0s 1ms/step - loss: 0.5359 - accuracy: 0.7582\n",
      "Epoch 23/300\n",
      "6/6 [==============================] - 0s 1ms/step - loss: 0.5267 - accuracy: 0.7692\n",
      "Epoch 24/300\n",
      "6/6 [==============================] - 0s 800us/step - loss: 0.5181 - accuracy: 0.7747\n",
      "Epoch 25/300\n",
      "6/6 [==============================] - 0s 1ms/step - loss: 0.5101 - accuracy: 0.7747\n",
      "Epoch 26/300\n",
      "6/6 [==============================] - 0s 2ms/step - loss: 0.5017 - accuracy: 0.7802\n",
      "Epoch 27/300\n",
      "6/6 [==============================] - 0s 1ms/step - loss: 0.4937 - accuracy: 0.7857\n",
      "Epoch 28/300\n",
      "6/6 [==============================] - 0s 1ms/step - loss: 0.4860 - accuracy: 0.8022\n",
      "Epoch 29/300\n",
      "6/6 [==============================] - 0s 2ms/step - loss: 0.4785 - accuracy: 0.8077\n",
      "Epoch 30/300\n",
      "6/6 [==============================] - 0s 2ms/step - loss: 0.4717 - accuracy: 0.8132\n",
      "Epoch 31/300\n",
      "6/6 [==============================] - 0s 2ms/step - loss: 0.4647 - accuracy: 0.8187\n",
      "Epoch 32/300\n",
      "6/6 [==============================] - 0s 1ms/step - loss: 0.4583 - accuracy: 0.8242\n",
      "Epoch 33/300\n",
      "6/6 [==============================] - 0s 2ms/step - loss: 0.4518 - accuracy: 0.8242\n",
      "Epoch 34/300\n",
      "6/6 [==============================] - 0s 1ms/step - loss: 0.4458 - accuracy: 0.8242\n",
      "Epoch 35/300\n",
      "6/6 [==============================] - 0s 1ms/step - loss: 0.4397 - accuracy: 0.8297\n",
      "Epoch 36/300\n",
      "6/6 [==============================] - 0s 1ms/step - loss: 0.4342 - accuracy: 0.8297\n",
      "Epoch 37/300\n",
      "6/6 [==============================] - 0s 1ms/step - loss: 0.4286 - accuracy: 0.8297\n",
      "Epoch 38/300\n",
      "6/6 [==============================] - 0s 1ms/step - loss: 0.4232 - accuracy: 0.8352\n",
      "Epoch 39/300\n",
      "6/6 [==============================] - 0s 1ms/step - loss: 0.4179 - accuracy: 0.8462\n",
      "Epoch 40/300\n",
      "6/6 [==============================] - 0s 1ms/step - loss: 0.4128 - accuracy: 0.8407\n",
      "Epoch 41/300\n",
      "6/6 [==============================] - 0s 1ms/step - loss: 0.4083 - accuracy: 0.8352\n",
      "Epoch 42/300\n",
      "6/6 [==============================] - 0s 1ms/step - loss: 0.4034 - accuracy: 0.8407\n",
      "Epoch 43/300\n",
      "6/6 [==============================] - 0s 1ms/step - loss: 0.3990 - accuracy: 0.8407\n",
      "Epoch 44/300\n",
      "6/6 [==============================] - 0s 1ms/step - loss: 0.3947 - accuracy: 0.8462\n",
      "Epoch 45/300\n",
      "6/6 [==============================] - 0s 1ms/step - loss: 0.3906 - accuracy: 0.8462\n",
      "Epoch 46/300\n",
      "6/6 [==============================] - 0s 1ms/step - loss: 0.3866 - accuracy: 0.8462\n",
      "Epoch 47/300\n",
      "6/6 [==============================] - 0s 1ms/step - loss: 0.3827 - accuracy: 0.8462\n",
      "Epoch 48/300\n",
      "6/6 [==============================] - 0s 1ms/step - loss: 0.3788 - accuracy: 0.8516\n",
      "Epoch 49/300\n",
      "6/6 [==============================] - 0s 1ms/step - loss: 0.3753 - accuracy: 0.8571\n",
      "Epoch 50/300\n",
      "6/6 [==============================] - 0s 1ms/step - loss: 0.3716 - accuracy: 0.8626\n",
      "Epoch 51/300\n",
      "6/6 [==============================] - 0s 1ms/step - loss: 0.3682 - accuracy: 0.8681\n",
      "Epoch 52/300\n",
      "6/6 [==============================] - 0s 1ms/step - loss: 0.3648 - accuracy: 0.8681\n",
      "Epoch 53/300\n",
      "6/6 [==============================] - 0s 1ms/step - loss: 0.3617 - accuracy: 0.8571\n",
      "Epoch 54/300\n",
      "6/6 [==============================] - 0s 1ms/step - loss: 0.3585 - accuracy: 0.8571\n",
      "Epoch 55/300\n",
      "6/6 [==============================] - 0s 1ms/step - loss: 0.3557 - accuracy: 0.8571\n",
      "Epoch 56/300\n",
      "6/6 [==============================] - 0s 1ms/step - loss: 0.3526 - accuracy: 0.8571\n",
      "Epoch 57/300\n",
      "6/6 [==============================] - 0s 1ms/step - loss: 0.3499 - accuracy: 0.8571\n",
      "Epoch 58/300\n",
      "6/6 [==============================] - 0s 1ms/step - loss: 0.3473 - accuracy: 0.8571\n",
      "Epoch 59/300\n",
      "6/6 [==============================] - 0s 1ms/step - loss: 0.3445 - accuracy: 0.8571\n",
      "Epoch 60/300\n",
      "6/6 [==============================] - 0s 1ms/step - loss: 0.3421 - accuracy: 0.8571\n",
      "Epoch 61/300\n",
      "6/6 [==============================] - 0s 1ms/step - loss: 0.3396 - accuracy: 0.8571\n",
      "Epoch 62/300\n",
      "6/6 [==============================] - 0s 1ms/step - loss: 0.3373 - accuracy: 0.8571\n",
      "Epoch 63/300\n",
      "6/6 [==============================] - 0s 1000us/step - loss: 0.3351 - accuracy: 0.8571\n",
      "Epoch 64/300\n",
      "6/6 [==============================] - 0s 1ms/step - loss: 0.3327 - accuracy: 0.8571\n",
      "Epoch 65/300\n",
      "6/6 [==============================] - 0s 1ms/step - loss: 0.3306 - accuracy: 0.8571\n",
      "Epoch 66/300\n",
      "6/6 [==============================] - 0s 1ms/step - loss: 0.3285 - accuracy: 0.8571\n",
      "Epoch 67/300\n",
      "6/6 [==============================] - 0s 1ms/step - loss: 0.3264 - accuracy: 0.8571\n",
      "Epoch 68/300\n",
      "6/6 [==============================] - 0s 1ms/step - loss: 0.3244 - accuracy: 0.8571\n",
      "Epoch 69/300\n",
      "6/6 [==============================] - 0s 1ms/step - loss: 0.3224 - accuracy: 0.8571\n",
      "Epoch 70/300\n",
      "6/6 [==============================] - 0s 2ms/step - loss: 0.3206 - accuracy: 0.8516\n",
      "Epoch 71/300\n",
      "6/6 [==============================] - 0s 1ms/step - loss: 0.3188 - accuracy: 0.8516\n",
      "Epoch 72/300\n",
      "6/6 [==============================] - 0s 1ms/step - loss: 0.3169 - accuracy: 0.8516\n",
      "Epoch 73/300\n",
      "6/6 [==============================] - 0s 1ms/step - loss: 0.3152 - accuracy: 0.8516\n",
      "Epoch 74/300\n",
      "6/6 [==============================] - 0s 1ms/step - loss: 0.3135 - accuracy: 0.8516\n",
      "Epoch 75/300\n",
      "6/6 [==============================] - 0s 1ms/step - loss: 0.3119 - accuracy: 0.8516\n",
      "Epoch 76/300\n",
      "6/6 [==============================] - 0s 1ms/step - loss: 0.3102 - accuracy: 0.8516\n",
      "Epoch 77/300\n",
      "6/6 [==============================] - 0s 1ms/step - loss: 0.3088 - accuracy: 0.8516\n",
      "Epoch 78/300\n",
      "6/6 [==============================] - 0s 2ms/step - loss: 0.3072 - accuracy: 0.8516\n",
      "Epoch 79/300\n",
      "6/6 [==============================] - 0s 1ms/step - loss: 0.3057 - accuracy: 0.8516\n",
      "Epoch 80/300\n",
      "6/6 [==============================] - 0s 2ms/step - loss: 0.3044 - accuracy: 0.8571\n",
      "Epoch 81/300\n",
      "6/6 [==============================] - 0s 1ms/step - loss: 0.3028 - accuracy: 0.8571\n",
      "Epoch 82/300\n",
      "6/6 [==============================] - 0s 2ms/step - loss: 0.3015 - accuracy: 0.8571\n",
      "Epoch 83/300\n",
      "6/6 [==============================] - 0s 1ms/step - loss: 0.3001 - accuracy: 0.8571\n",
      "Epoch 84/300\n",
      "6/6 [==============================] - 0s 1ms/step - loss: 0.2989 - accuracy: 0.8571\n",
      "Epoch 85/300\n",
      "6/6 [==============================] - 0s 1ms/step - loss: 0.2976 - accuracy: 0.8571\n",
      "Epoch 86/300\n",
      "6/6 [==============================] - 0s 1ms/step - loss: 0.2965 - accuracy: 0.8571\n",
      "Epoch 87/300\n",
      "6/6 [==============================] - 0s 1000us/step - loss: 0.2951 - accuracy: 0.8571\n",
      "Epoch 88/300\n",
      "6/6 [==============================] - 0s 1ms/step - loss: 0.2938 - accuracy: 0.8571\n",
      "Epoch 89/300\n",
      "6/6 [==============================] - 0s 1ms/step - loss: 0.2926 - accuracy: 0.8571\n",
      "Epoch 90/300\n",
      "6/6 [==============================] - 0s 1ms/step - loss: 0.2915 - accuracy: 0.8571\n",
      "Epoch 91/300\n",
      "6/6 [==============================] - 0s 1ms/step - loss: 0.2905 - accuracy: 0.8571\n",
      "Epoch 92/300\n",
      "6/6 [==============================] - 0s 1ms/step - loss: 0.2892 - accuracy: 0.8571\n",
      "Epoch 93/300\n",
      "6/6 [==============================] - 0s 1ms/step - loss: 0.2881 - accuracy: 0.8571\n",
      "Epoch 94/300\n",
      "6/6 [==============================] - 0s 1ms/step - loss: 0.2871 - accuracy: 0.8571\n",
      "Epoch 95/300\n",
      "6/6 [==============================] - 0s 1ms/step - loss: 0.2859 - accuracy: 0.8571\n",
      "Epoch 96/300\n",
      "6/6 [==============================] - 0s 1ms/step - loss: 0.2850 - accuracy: 0.8571\n",
      "Epoch 97/300\n",
      "6/6 [==============================] - 0s 1ms/step - loss: 0.2840 - accuracy: 0.8571\n",
      "Epoch 98/300\n",
      "6/6 [==============================] - 0s 1ms/step - loss: 0.2829 - accuracy: 0.8571\n",
      "Epoch 99/300\n",
      "6/6 [==============================] - 0s 2ms/step - loss: 0.2821 - accuracy: 0.8571\n",
      "Epoch 100/300\n",
      "6/6 [==============================] - 0s 1ms/step - loss: 0.2810 - accuracy: 0.8626\n",
      "Epoch 101/300\n",
      "6/6 [==============================] - 0s 1ms/step - loss: 0.2802 - accuracy: 0.8626\n",
      "Epoch 102/300\n",
      "6/6 [==============================] - 0s 2ms/step - loss: 0.2790 - accuracy: 0.8571\n",
      "Epoch 103/300\n",
      "6/6 [==============================] - 0s 1ms/step - loss: 0.2782 - accuracy: 0.8571\n",
      "Epoch 104/300\n",
      "6/6 [==============================] - 0s 1ms/step - loss: 0.2773 - accuracy: 0.8571\n",
      "Epoch 105/300\n",
      "6/6 [==============================] - 0s 2ms/step - loss: 0.2763 - accuracy: 0.8571\n",
      "Epoch 106/300\n",
      "6/6 [==============================] - 0s 1ms/step - loss: 0.2753 - accuracy: 0.8571\n",
      "Epoch 107/300\n",
      "6/6 [==============================] - 0s 1ms/step - loss: 0.2746 - accuracy: 0.8571\n",
      "Epoch 108/300\n",
      "6/6 [==============================] - 0s 2ms/step - loss: 0.2737 - accuracy: 0.8626\n",
      "Epoch 109/300\n",
      "6/6 [==============================] - 0s 1ms/step - loss: 0.2729 - accuracy: 0.8681\n",
      "Epoch 110/300\n",
      "6/6 [==============================] - 0s 2ms/step - loss: 0.2718 - accuracy: 0.8681\n",
      "Epoch 111/300\n",
      "6/6 [==============================] - 0s 1ms/step - loss: 0.2710 - accuracy: 0.8736\n",
      "Epoch 112/300\n",
      "6/6 [==============================] - 0s 2ms/step - loss: 0.2701 - accuracy: 0.8736\n",
      "Epoch 113/300\n",
      "6/6 [==============================] - 0s 1ms/step - loss: 0.2692 - accuracy: 0.8791\n",
      "Epoch 114/300\n",
      "6/6 [==============================] - 0s 1ms/step - loss: 0.2684 - accuracy: 0.8791\n",
      "Epoch 115/300\n",
      "6/6 [==============================] - 0s 1ms/step - loss: 0.2675 - accuracy: 0.8791\n",
      "Epoch 116/300\n",
      "6/6 [==============================] - 0s 1ms/step - loss: 0.2666 - accuracy: 0.8791\n",
      "Epoch 117/300\n",
      "6/6 [==============================] - 0s 1ms/step - loss: 0.2658 - accuracy: 0.8791\n",
      "Epoch 118/300\n",
      "6/6 [==============================] - 0s 1ms/step - loss: 0.2650 - accuracy: 0.8791\n",
      "Epoch 119/300\n",
      "6/6 [==============================] - 0s 2ms/step - loss: 0.2642 - accuracy: 0.8791\n",
      "Epoch 120/300\n",
      "6/6 [==============================] - 0s 1ms/step - loss: 0.2634 - accuracy: 0.8791\n",
      "Epoch 121/300\n",
      "6/6 [==============================] - 0s 1ms/step - loss: 0.2626 - accuracy: 0.8791\n",
      "Epoch 122/300\n",
      "6/6 [==============================] - 0s 1ms/step - loss: 0.2618 - accuracy: 0.8791\n",
      "Epoch 123/300\n",
      "6/6 [==============================] - 0s 2ms/step - loss: 0.2610 - accuracy: 0.8846\n",
      "Epoch 124/300\n",
      "6/6 [==============================] - 0s 1ms/step - loss: 0.2602 - accuracy: 0.8846\n",
      "Epoch 125/300\n",
      "6/6 [==============================] - 0s 1ms/step - loss: 0.2595 - accuracy: 0.8846\n",
      "Epoch 126/300\n",
      "6/6 [==============================] - 0s 1ms/step - loss: 0.2586 - accuracy: 0.8846\n",
      "Epoch 127/300\n",
      "6/6 [==============================] - 0s 1ms/step - loss: 0.2578 - accuracy: 0.8901\n",
      "Epoch 128/300\n",
      "6/6 [==============================] - 0s 1ms/step - loss: 0.2571 - accuracy: 0.8901\n",
      "Epoch 129/300\n",
      "6/6 [==============================] - 0s 1ms/step - loss: 0.2563 - accuracy: 0.8901\n",
      "Epoch 130/300\n",
      "6/6 [==============================] - 0s 1ms/step - loss: 0.2556 - accuracy: 0.8901\n",
      "Epoch 131/300\n",
      "6/6 [==============================] - 0s 1ms/step - loss: 0.2548 - accuracy: 0.8901\n",
      "Epoch 132/300\n",
      "6/6 [==============================] - 0s 1ms/step - loss: 0.2540 - accuracy: 0.8901\n",
      "Epoch 133/300\n",
      "6/6 [==============================] - 0s 1ms/step - loss: 0.2533 - accuracy: 0.8901\n",
      "Epoch 134/300\n",
      "6/6 [==============================] - 0s 1ms/step - loss: 0.2527 - accuracy: 0.8901\n",
      "Epoch 135/300\n",
      "6/6 [==============================] - 0s 2ms/step - loss: 0.2519 - accuracy: 0.8956\n",
      "Epoch 136/300\n",
      "6/6 [==============================] - 0s 2ms/step - loss: 0.2513 - accuracy: 0.8901\n",
      "Epoch 137/300\n",
      "6/6 [==============================] - 0s 2ms/step - loss: 0.2507 - accuracy: 0.8901\n",
      "Epoch 138/300\n",
      "6/6 [==============================] - 0s 3ms/step - loss: 0.2500 - accuracy: 0.8901\n",
      "Epoch 139/300\n",
      "6/6 [==============================] - 0s 2ms/step - loss: 0.2494 - accuracy: 0.8901\n",
      "Epoch 140/300\n",
      "6/6 [==============================] - 0s 2ms/step - loss: 0.2488 - accuracy: 0.8901\n",
      "Epoch 141/300\n",
      "6/6 [==============================] - 0s 1ms/step - loss: 0.2480 - accuracy: 0.8901\n",
      "Epoch 142/300\n",
      "6/6 [==============================] - 0s 1ms/step - loss: 0.2475 - accuracy: 0.8901\n",
      "Epoch 143/300\n",
      "6/6 [==============================] - 0s 1ms/step - loss: 0.2467 - accuracy: 0.8901\n",
      "Epoch 144/300\n",
      "6/6 [==============================] - 0s 1ms/step - loss: 0.2460 - accuracy: 0.8901\n",
      "Epoch 145/300\n",
      "6/6 [==============================] - 0s 1ms/step - loss: 0.2453 - accuracy: 0.8901\n",
      "Epoch 146/300\n",
      "6/6 [==============================] - 0s 1ms/step - loss: 0.2447 - accuracy: 0.8901\n",
      "Epoch 147/300\n",
      "6/6 [==============================] - 0s 1ms/step - loss: 0.2440 - accuracy: 0.8901\n",
      "Epoch 148/300\n",
      "6/6 [==============================] - 0s 2ms/step - loss: 0.2434 - accuracy: 0.8901\n",
      "Epoch 149/300\n",
      "6/6 [==============================] - 0s 2ms/step - loss: 0.2427 - accuracy: 0.8901\n",
      "Epoch 150/300\n",
      "6/6 [==============================] - 0s 1ms/step - loss: 0.2419 - accuracy: 0.8901\n",
      "Epoch 151/300\n",
      "6/6 [==============================] - 0s 1ms/step - loss: 0.2415 - accuracy: 0.8901\n",
      "Epoch 152/300\n",
      "6/6 [==============================] - 0s 1ms/step - loss: 0.2407 - accuracy: 0.8901\n",
      "Epoch 153/300\n",
      "6/6 [==============================] - 0s 1ms/step - loss: 0.2401 - accuracy: 0.8901\n",
      "Epoch 154/300\n",
      "6/6 [==============================] - 0s 1000us/step - loss: 0.2394 - accuracy: 0.8901\n",
      "Epoch 155/300\n",
      "6/6 [==============================] - 0s 1ms/step - loss: 0.2388 - accuracy: 0.8901\n",
      "Epoch 156/300\n",
      "6/6 [==============================] - 0s 1ms/step - loss: 0.2381 - accuracy: 0.8956\n",
      "Epoch 157/300\n",
      "6/6 [==============================] - 0s 1ms/step - loss: 0.2377 - accuracy: 0.8956\n",
      "Epoch 158/300\n",
      "6/6 [==============================] - 0s 1ms/step - loss: 0.2369 - accuracy: 0.8956\n",
      "Epoch 159/300\n",
      "6/6 [==============================] - 0s 1ms/step - loss: 0.2364 - accuracy: 0.8956\n",
      "Epoch 160/300\n",
      "6/6 [==============================] - 0s 1ms/step - loss: 0.2359 - accuracy: 0.8956\n",
      "Epoch 161/300\n",
      "6/6 [==============================] - 0s 1ms/step - loss: 0.2352 - accuracy: 0.9011\n",
      "Epoch 162/300\n",
      "6/6 [==============================] - 0s 1ms/step - loss: 0.2346 - accuracy: 0.9011\n",
      "Epoch 163/300\n",
      "6/6 [==============================] - 0s 1ms/step - loss: 0.2341 - accuracy: 0.9011\n",
      "Epoch 164/300\n",
      "6/6 [==============================] - 0s 1ms/step - loss: 0.2336 - accuracy: 0.9011\n",
      "Epoch 165/300\n",
      "6/6 [==============================] - 0s 2ms/step - loss: 0.2330 - accuracy: 0.9011\n",
      "Epoch 166/300\n",
      "6/6 [==============================] - 0s 1ms/step - loss: 0.2325 - accuracy: 0.9011\n",
      "Epoch 167/300\n",
      "6/6 [==============================] - 0s 1ms/step - loss: 0.2319 - accuracy: 0.9011\n",
      "Epoch 168/300\n",
      "6/6 [==============================] - 0s 1ms/step - loss: 0.2314 - accuracy: 0.9011\n",
      "Epoch 169/300\n",
      "6/6 [==============================] - 0s 1ms/step - loss: 0.2309 - accuracy: 0.9011\n",
      "Epoch 170/300\n",
      "6/6 [==============================] - 0s 1ms/step - loss: 0.2303 - accuracy: 0.9011\n",
      "Epoch 171/300\n",
      "6/6 [==============================] - 0s 1ms/step - loss: 0.2298 - accuracy: 0.9011\n",
      "Epoch 172/300\n",
      "6/6 [==============================] - 0s 1ms/step - loss: 0.2293 - accuracy: 0.9011\n",
      "Epoch 173/300\n",
      "6/6 [==============================] - 0s 1ms/step - loss: 0.2288 - accuracy: 0.9011\n",
      "Epoch 174/300\n",
      "6/6 [==============================] - 0s 1ms/step - loss: 0.2284 - accuracy: 0.9011\n",
      "Epoch 175/300\n",
      "6/6 [==============================] - 0s 1ms/step - loss: 0.2278 - accuracy: 0.9011\n",
      "Epoch 176/300\n",
      "6/6 [==============================] - 0s 1ms/step - loss: 0.2274 - accuracy: 0.9011\n",
      "Epoch 177/300\n",
      "6/6 [==============================] - 0s 2ms/step - loss: 0.2269 - accuracy: 0.9011\n",
      "Epoch 178/300\n",
      "6/6 [==============================] - 0s 1ms/step - loss: 0.2264 - accuracy: 0.9011\n",
      "Epoch 179/300\n",
      "6/6 [==============================] - 0s 1ms/step - loss: 0.2260 - accuracy: 0.9011\n",
      "Epoch 180/300\n",
      "6/6 [==============================] - 0s 1ms/step - loss: 0.2255 - accuracy: 0.9011\n",
      "Epoch 181/300\n",
      "6/6 [==============================] - 0s 1ms/step - loss: 0.2251 - accuracy: 0.9011\n",
      "Epoch 182/300\n",
      "6/6 [==============================] - 0s 1ms/step - loss: 0.2247 - accuracy: 0.9011\n",
      "Epoch 183/300\n",
      "6/6 [==============================] - 0s 1ms/step - loss: 0.2241 - accuracy: 0.9011\n",
      "Epoch 184/300\n",
      "6/6 [==============================] - 0s 1ms/step - loss: 0.2238 - accuracy: 0.9011\n",
      "Epoch 185/300\n",
      "6/6 [==============================] - 0s 1ms/step - loss: 0.2233 - accuracy: 0.9011\n",
      "Epoch 186/300\n",
      "6/6 [==============================] - 0s 1ms/step - loss: 0.2229 - accuracy: 0.9011\n",
      "Epoch 187/300\n",
      "6/6 [==============================] - 0s 1ms/step - loss: 0.2224 - accuracy: 0.9011\n",
      "Epoch 188/300\n",
      "6/6 [==============================] - 0s 1ms/step - loss: 0.2220 - accuracy: 0.9011\n",
      "Epoch 189/300\n",
      "6/6 [==============================] - 0s 1ms/step - loss: 0.2216 - accuracy: 0.9011\n",
      "Epoch 190/300\n",
      "6/6 [==============================] - 0s 1ms/step - loss: 0.2211 - accuracy: 0.9011\n",
      "Epoch 191/300\n",
      "6/6 [==============================] - 0s 1ms/step - loss: 0.2208 - accuracy: 0.9011\n",
      "Epoch 192/300\n",
      "6/6 [==============================] - 0s 1ms/step - loss: 0.2203 - accuracy: 0.9011\n",
      "Epoch 193/300\n",
      "6/6 [==============================] - 0s 1ms/step - loss: 0.2200 - accuracy: 0.9011\n",
      "Epoch 194/300\n",
      "6/6 [==============================] - 0s 1ms/step - loss: 0.2194 - accuracy: 0.9011\n",
      "Epoch 195/300\n",
      "6/6 [==============================] - 0s 1ms/step - loss: 0.2191 - accuracy: 0.9011\n",
      "Epoch 196/300\n",
      "6/6 [==============================] - 0s 2ms/step - loss: 0.2186 - accuracy: 0.9011\n",
      "Epoch 197/300\n",
      "6/6 [==============================] - 0s 2ms/step - loss: 0.2183 - accuracy: 0.9011\n",
      "Epoch 198/300\n",
      "6/6 [==============================] - 0s 2ms/step - loss: 0.2178 - accuracy: 0.9011\n",
      "Epoch 199/300\n",
      "6/6 [==============================] - 0s 1ms/step - loss: 0.2174 - accuracy: 0.9011\n",
      "Epoch 200/300\n",
      "6/6 [==============================] - 0s 1ms/step - loss: 0.2170 - accuracy: 0.9011\n",
      "Epoch 201/300\n",
      "6/6 [==============================] - 0s 1ms/step - loss: 0.2167 - accuracy: 0.9011\n",
      "Epoch 202/300\n",
      "6/6 [==============================] - 0s 1ms/step - loss: 0.2163 - accuracy: 0.9011\n",
      "Epoch 203/300\n",
      "6/6 [==============================] - 0s 1ms/step - loss: 0.2158 - accuracy: 0.9011\n",
      "Epoch 204/300\n",
      "6/6 [==============================] - 0s 1ms/step - loss: 0.2154 - accuracy: 0.9011\n",
      "Epoch 205/300\n",
      "6/6 [==============================] - 0s 1ms/step - loss: 0.2150 - accuracy: 0.9011\n",
      "Epoch 206/300\n",
      "6/6 [==============================] - 0s 1ms/step - loss: 0.2147 - accuracy: 0.9011\n",
      "Epoch 207/300\n",
      "6/6 [==============================] - 0s 1ms/step - loss: 0.2143 - accuracy: 0.9011\n",
      "Epoch 208/300\n",
      "6/6 [==============================] - 0s 1ms/step - loss: 0.2139 - accuracy: 0.9066\n",
      "Epoch 209/300\n",
      "6/6 [==============================] - 0s 1000us/step - loss: 0.2136 - accuracy: 0.9066\n",
      "Epoch 210/300\n",
      "6/6 [==============================] - 0s 1ms/step - loss: 0.2132 - accuracy: 0.9066\n",
      "Epoch 211/300\n",
      "6/6 [==============================] - 0s 1ms/step - loss: 0.2128 - accuracy: 0.9066\n",
      "Epoch 212/300\n",
      "6/6 [==============================] - 0s 2ms/step - loss: 0.2125 - accuracy: 0.9066\n",
      "Epoch 213/300\n",
      "6/6 [==============================] - 0s 1ms/step - loss: 0.2121 - accuracy: 0.9066\n",
      "Epoch 214/300\n",
      "6/6 [==============================] - 0s 1ms/step - loss: 0.2117 - accuracy: 0.9066\n",
      "Epoch 215/300\n",
      "6/6 [==============================] - 0s 1ms/step - loss: 0.2114 - accuracy: 0.9066\n",
      "Epoch 216/300\n",
      "6/6 [==============================] - 0s 1ms/step - loss: 0.2109 - accuracy: 0.9066\n",
      "Epoch 217/300\n",
      "6/6 [==============================] - 0s 1ms/step - loss: 0.2106 - accuracy: 0.9066\n",
      "Epoch 218/300\n",
      "6/6 [==============================] - 0s 1ms/step - loss: 0.2103 - accuracy: 0.9066\n",
      "Epoch 219/300\n",
      "6/6 [==============================] - 0s 1ms/step - loss: 0.2100 - accuracy: 0.9066\n",
      "Epoch 220/300\n",
      "6/6 [==============================] - 0s 1ms/step - loss: 0.2096 - accuracy: 0.9066\n",
      "Epoch 221/300\n",
      "6/6 [==============================] - 0s 1ms/step - loss: 0.2091 - accuracy: 0.9011\n",
      "Epoch 222/300\n",
      "6/6 [==============================] - 0s 2ms/step - loss: 0.2088 - accuracy: 0.9011\n",
      "Epoch 223/300\n",
      "6/6 [==============================] - 0s 2ms/step - loss: 0.2085 - accuracy: 0.9066\n",
      "Epoch 224/300\n",
      "6/6 [==============================] - 0s 2ms/step - loss: 0.2081 - accuracy: 0.9066\n",
      "Epoch 225/300\n",
      "6/6 [==============================] - 0s 1ms/step - loss: 0.2077 - accuracy: 0.9066\n",
      "Epoch 226/300\n",
      "6/6 [==============================] - 0s 1ms/step - loss: 0.2075 - accuracy: 0.9066\n",
      "Epoch 227/300\n",
      "6/6 [==============================] - 0s 2ms/step - loss: 0.2071 - accuracy: 0.9066\n",
      "Epoch 228/300\n",
      "6/6 [==============================] - 0s 1ms/step - loss: 0.2068 - accuracy: 0.9011\n",
      "Epoch 229/300\n",
      "6/6 [==============================] - 0s 1ms/step - loss: 0.2065 - accuracy: 0.9011\n",
      "Epoch 230/300\n",
      "6/6 [==============================] - 0s 1ms/step - loss: 0.2061 - accuracy: 0.9011\n",
      "Epoch 231/300\n",
      "6/6 [==============================] - 0s 1ms/step - loss: 0.2058 - accuracy: 0.9011\n",
      "Epoch 232/300\n",
      "6/6 [==============================] - 0s 1ms/step - loss: 0.2056 - accuracy: 0.9066\n",
      "Epoch 233/300\n",
      "6/6 [==============================] - 0s 1ms/step - loss: 0.2052 - accuracy: 0.9011\n",
      "Epoch 234/300\n",
      "6/6 [==============================] - 0s 1ms/step - loss: 0.2049 - accuracy: 0.9011\n",
      "Epoch 235/300\n",
      "6/6 [==============================] - 0s 1ms/step - loss: 0.2045 - accuracy: 0.9011\n",
      "Epoch 236/300\n",
      "6/6 [==============================] - 0s 1ms/step - loss: 0.2042 - accuracy: 0.9011\n",
      "Epoch 237/300\n",
      "6/6 [==============================] - 0s 1ms/step - loss: 0.2039 - accuracy: 0.9011\n",
      "Epoch 238/300\n",
      "6/6 [==============================] - 0s 1ms/step - loss: 0.2037 - accuracy: 0.9011\n",
      "Epoch 239/300\n",
      "6/6 [==============================] - 0s 1ms/step - loss: 0.2033 - accuracy: 0.9011\n",
      "Epoch 240/300\n",
      "6/6 [==============================] - 0s 1ms/step - loss: 0.2031 - accuracy: 0.9011\n",
      "Epoch 241/300\n",
      "6/6 [==============================] - 0s 1ms/step - loss: 0.2027 - accuracy: 0.9011\n",
      "Epoch 242/300\n",
      "6/6 [==============================] - 0s 1ms/step - loss: 0.2026 - accuracy: 0.9011\n",
      "Epoch 243/300\n",
      "6/6 [==============================] - 0s 1ms/step - loss: 0.2022 - accuracy: 0.9011\n",
      "Epoch 244/300\n",
      "6/6 [==============================] - 0s 1ms/step - loss: 0.2018 - accuracy: 0.9011\n",
      "Epoch 245/300\n",
      "6/6 [==============================] - 0s 1ms/step - loss: 0.2015 - accuracy: 0.9011\n",
      "Epoch 246/300\n",
      "6/6 [==============================] - 0s 1ms/step - loss: 0.2012 - accuracy: 0.9011\n",
      "Epoch 247/300\n",
      "6/6 [==============================] - 0s 1ms/step - loss: 0.2009 - accuracy: 0.9011\n",
      "Epoch 248/300\n",
      "6/6 [==============================] - 0s 1ms/step - loss: 0.2006 - accuracy: 0.9011\n",
      "Epoch 249/300\n",
      "6/6 [==============================] - 0s 1000us/step - loss: 0.2003 - accuracy: 0.9011\n",
      "Epoch 250/300\n",
      "6/6 [==============================] - 0s 2ms/step - loss: 0.2000 - accuracy: 0.9011\n",
      "Epoch 251/300\n",
      "6/6 [==============================] - 0s 1ms/step - loss: 0.1998 - accuracy: 0.9011\n",
      "Epoch 252/300\n",
      "6/6 [==============================] - 0s 1ms/step - loss: 0.1995 - accuracy: 0.9011\n",
      "Epoch 253/300\n",
      "6/6 [==============================] - 0s 1ms/step - loss: 0.1992 - accuracy: 0.9011\n",
      "Epoch 254/300\n",
      "6/6 [==============================] - 0s 1ms/step - loss: 0.1989 - accuracy: 0.9011\n",
      "Epoch 255/300\n",
      "6/6 [==============================] - 0s 1ms/step - loss: 0.1986 - accuracy: 0.9066\n",
      "Epoch 256/300\n",
      "6/6 [==============================] - 0s 1ms/step - loss: 0.1984 - accuracy: 0.9066\n",
      "Epoch 257/300\n",
      "6/6 [==============================] - 0s 1ms/step - loss: 0.1981 - accuracy: 0.9066\n",
      "Epoch 258/300\n",
      "6/6 [==============================] - 0s 1ms/step - loss: 0.1978 - accuracy: 0.9066\n",
      "Epoch 259/300\n",
      "6/6 [==============================] - 0s 1ms/step - loss: 0.1975 - accuracy: 0.9066\n",
      "Epoch 260/300\n",
      "6/6 [==============================] - 0s 1ms/step - loss: 0.1973 - accuracy: 0.9066\n",
      "Epoch 261/300\n",
      "6/6 [==============================] - 0s 1ms/step - loss: 0.1970 - accuracy: 0.9066\n",
      "Epoch 262/300\n",
      "6/6 [==============================] - 0s 1ms/step - loss: 0.1968 - accuracy: 0.9066\n",
      "Epoch 263/300\n",
      "6/6 [==============================] - 0s 1ms/step - loss: 0.1964 - accuracy: 0.9066\n",
      "Epoch 264/300\n",
      "6/6 [==============================] - 0s 1ms/step - loss: 0.1962 - accuracy: 0.9066\n",
      "Epoch 265/300\n",
      "6/6 [==============================] - 0s 1ms/step - loss: 0.1960 - accuracy: 0.9066\n",
      "Epoch 266/300\n",
      "6/6 [==============================] - 0s 1ms/step - loss: 0.1956 - accuracy: 0.9066\n",
      "Epoch 267/300\n",
      "6/6 [==============================] - 0s 1ms/step - loss: 0.1953 - accuracy: 0.9066\n",
      "Epoch 268/300\n",
      "6/6 [==============================] - 0s 1ms/step - loss: 0.1950 - accuracy: 0.9066\n",
      "Epoch 269/300\n",
      "6/6 [==============================] - 0s 1ms/step - loss: 0.1949 - accuracy: 0.9066\n",
      "Epoch 270/300\n",
      "6/6 [==============================] - 0s 1ms/step - loss: 0.1945 - accuracy: 0.9066\n",
      "Epoch 271/300\n",
      "6/6 [==============================] - 0s 1ms/step - loss: 0.1943 - accuracy: 0.9066\n",
      "Epoch 272/300\n",
      "6/6 [==============================] - 0s 1ms/step - loss: 0.1939 - accuracy: 0.9121\n",
      "Epoch 273/300\n",
      "6/6 [==============================] - 0s 1ms/step - loss: 0.1936 - accuracy: 0.9121\n",
      "Epoch 274/300\n",
      "6/6 [==============================] - 0s 1ms/step - loss: 0.1935 - accuracy: 0.9121\n",
      "Epoch 275/300\n",
      "6/6 [==============================] - 0s 1ms/step - loss: 0.1932 - accuracy: 0.9121\n",
      "Epoch 276/300\n",
      "6/6 [==============================] - 0s 1ms/step - loss: 0.1929 - accuracy: 0.9121\n",
      "Epoch 277/300\n",
      "6/6 [==============================] - 0s 1ms/step - loss: 0.1927 - accuracy: 0.9121\n",
      "Epoch 278/300\n",
      "6/6 [==============================] - 0s 1ms/step - loss: 0.1924 - accuracy: 0.9121\n",
      "Epoch 279/300\n",
      "6/6 [==============================] - 0s 1ms/step - loss: 0.1922 - accuracy: 0.9121\n",
      "Epoch 280/300\n",
      "6/6 [==============================] - 0s 1ms/step - loss: 0.1919 - accuracy: 0.9121\n",
      "Epoch 281/300\n",
      "6/6 [==============================] - 0s 2ms/step - loss: 0.1917 - accuracy: 0.9121\n",
      "Epoch 282/300\n",
      "6/6 [==============================] - 0s 1000us/step - loss: 0.1913 - accuracy: 0.9121\n",
      "Epoch 283/300\n",
      "6/6 [==============================] - 0s 1ms/step - loss: 0.1912 - accuracy: 0.9121\n",
      "Epoch 284/300\n",
      "6/6 [==============================] - 0s 1ms/step - loss: 0.1911 - accuracy: 0.9121\n",
      "Epoch 285/300\n",
      "6/6 [==============================] - 0s 1ms/step - loss: 0.1907 - accuracy: 0.9121\n",
      "Epoch 286/300\n",
      "6/6 [==============================] - 0s 1ms/step - loss: 0.1904 - accuracy: 0.9121\n",
      "Epoch 287/300\n",
      "6/6 [==============================] - 0s 1ms/step - loss: 0.1901 - accuracy: 0.9121\n",
      "Epoch 288/300\n",
      "6/6 [==============================] - 0s 1ms/step - loss: 0.1898 - accuracy: 0.9121\n",
      "Epoch 289/300\n",
      "6/6 [==============================] - 0s 1ms/step - loss: 0.1896 - accuracy: 0.9121\n",
      "Epoch 290/300\n",
      "6/6 [==============================] - 0s 1ms/step - loss: 0.1895 - accuracy: 0.9121\n",
      "Epoch 291/300\n",
      "6/6 [==============================] - 0s 1ms/step - loss: 0.1893 - accuracy: 0.9121\n",
      "Epoch 292/300\n",
      "6/6 [==============================] - 0s 1ms/step - loss: 0.1889 - accuracy: 0.9066\n",
      "Epoch 293/300\n",
      "6/6 [==============================] - 0s 2ms/step - loss: 0.1886 - accuracy: 0.9066\n",
      "Epoch 294/300\n",
      "6/6 [==============================] - 0s 2ms/step - loss: 0.1884 - accuracy: 0.9066\n",
      "Epoch 295/300\n",
      "6/6 [==============================] - 0s 2ms/step - loss: 0.1882 - accuracy: 0.9066\n",
      "Epoch 296/300\n",
      "6/6 [==============================] - 0s 1ms/step - loss: 0.1880 - accuracy: 0.9066\n",
      "Epoch 297/300\n",
      "6/6 [==============================] - 0s 2ms/step - loss: 0.1877 - accuracy: 0.9066\n",
      "Epoch 298/300\n",
      "6/6 [==============================] - 0s 1ms/step - loss: 0.1875 - accuracy: 0.9066\n",
      "Epoch 299/300\n",
      "6/6 [==============================] - 0s 1ms/step - loss: 0.1873 - accuracy: 0.9066\n",
      "Epoch 300/300\n",
      "6/6 [==============================] - 0s 1ms/step - loss: 0.1870 - accuracy: 0.9066\n"
     ]
    },
    {
     "data": {
      "text/plain": [
       "<keras.callbacks.History at 0x2163cf4e910>"
      ]
     },
     "execution_count": 160,
     "metadata": {},
     "output_type": "execute_result"
    }
   ],
   "source": [
    "model.fit(X_train,Y_train,epochs=300)"
   ]
  },
  {
   "cell_type": "code",
   "execution_count": 161,
   "metadata": {},
   "outputs": [],
   "source": [
    "Y_pred_nn = model.predict(X_test)"
   ]
  },
  {
   "cell_type": "code",
   "execution_count": 162,
   "metadata": {},
   "outputs": [
    {
     "data": {
      "text/plain": [
       "(79, 1)"
      ]
     },
     "execution_count": 162,
     "metadata": {},
     "output_type": "execute_result"
    }
   ],
   "source": [
    "Y_pred_nn.shape"
   ]
  },
  {
   "cell_type": "code",
   "execution_count": 163,
   "metadata": {},
   "outputs": [],
   "source": [
    "rounded = [round(x[0]) for x in Y_pred_nn]\n",
    "\n",
    "Y_pred_nn = rounded"
   ]
  },
  {
   "cell_type": "code",
   "execution_count": 164,
   "metadata": {},
   "outputs": [
    {
     "name": "stdout",
     "output_type": "stream",
     "text": [
      "The accuracy score achieved using Neural Network is: 73.42 %\n"
     ]
    }
   ],
   "source": [
    "score_nn = round(accuracy_score(Y_pred_nn,Y_test)*100,2)\n",
    "\n",
    "print(\"The accuracy score achieved using Neural Network is: \"+str(score_nn)+\" %\")"
   ]
  },
  {
   "cell_type": "code",
   "execution_count": 165,
   "metadata": {},
   "outputs": [
    {
     "name": "stdout",
     "output_type": "stream",
     "text": [
      "The accuracy score achieved using K-Nearest Neighbors is: 78.48 %\n",
      "The accuracy score achieved using XGBoost is: 73.42 %\n",
      "The accuracy score achieved using Neural Network is: 73.42 %\n"
     ]
    }
   ],
   "source": [
    "scores = [score_knn, score_xgb ,score_nn]\n",
    "algorithms = [\"K-Nearest Neighbors\",\"XGBoost\",\"Neural Network\"]    \n",
    "\n",
    "for i in range(len(algorithms)):\n",
    "    print(\"The accuracy score achieved using \"+algorithms[i]+\" is: \"+str(scores[i])+\" %\")"
   ]
  },
  {
   "cell_type": "code",
   "execution_count": 166,
   "metadata": {},
   "outputs": [
    {
     "data": {
      "text/plain": [
       "<AxesSubplot:xlabel='Algorithms', ylabel='Accuracy score'>"
      ]
     },
     "execution_count": 166,
     "metadata": {},
     "output_type": "execute_result"
    },
    {
     "data": {
      "image/png": "[encoded data removed]",
      "text/plain": [
       "<Figure size 1080x576 with 1 Axes>"
      ]
     },
     "metadata": {},
     "output_type": "display_data"
    }
   ],
   "source": [
    "sns.set(rc={'figure.figsize':(15,8)})\n",
    "plt.xlabel(\"Algorithms\")\n",
    "plt.ylabel(\"Accuracy score\")\n",
    "\n",
    "sns.barplot(algorithms,scores)"
   ]
  }
 ],
 "metadata": {
  "interpreter": {
   "hash": "84e7ca4d3cda02558b8488111a750648cb6a4b3668a23f44e278fc8092a466ab"
  },
  "kernelspec": {
   "display_name": "Python 3.8.11 ('base')",
   "language": "python",
   "name": "python3"
  },
  "language_info": {
   "codemirror_mode": {
    "name": "ipython",
    "version": 3
   },
   "file_extension": ".py",
   "mimetype": "text/x-python",
   "name": "python",
   "nbconvert_exporter": "python",
   "pygments_lexer": "ipython3",
   "version": "3.8.11"
  },
  "orig_nbformat": 4
 },
 "nbformat": 4,
 "nbformat_minor": 2
}
